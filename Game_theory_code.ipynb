{
  "nbformat": 4,
  "nbformat_minor": 0,
  "metadata": {
    "colab": {
      "name": "Game_theory_code.ipynb",
      "provenance": [],
      "collapsed_sections": [],
      "authorship_tag": "ABX9TyNtTPfdKMFlQFD1WWXMqb8r",
      "include_colab_link": true
    },
    "kernelspec": {
      "name": "python3",
      "display_name": "Python 3"
    },
    "language_info": {
      "name": "python"
    }
  },
  "cells": [
    {
      "cell_type": "markdown",
      "metadata": {
        "id": "view-in-github",
        "colab_type": "text"
      },
      "source": [
        "<a href=\"https://colab.research.google.com/github/loicpages/work/blob/main/Game_theory_code.ipynb\" target=\"_parent\"><img src=\"https://colab.research.google.com/assets/colab-badge.svg\" alt=\"Open In Colab\"/></a>"
      ]
    },
    {
      "cell_type": "code",
      "metadata": {
        "id": "L23VSHuQlTcg"
      },
      "source": [
        "import pandas as pd\n",
        "import numpy as np"
      ],
      "execution_count": 12,
      "outputs": []
    },
    {
      "cell_type": "code",
      "metadata": {
        "id": "3iv4zBGwu5CM"
      },
      "source": [
        "data_path = '/content/Crime.csv'\n",
        "df = pd.read_csv(data_path,skiprows=1)\n",
        "df = df.loc[df['LookUp_BoroughName'].isin(['Westminster','Camden'])]\n",
        "del df['LookUp_BoroughName']\n",
        "\n",
        "df_1 = df.loc[df['MinorText'].isin(['Other Firearm Offences',\n",
        "                                    'Possession of Firearm with Intent',\n",
        "                                    'Possession of Firearms Offences'])]\n",
        "total_1 = df_1.sum()\n",
        "total_1.name = 'Firearm'\n",
        "\n",
        "df_2 = df.loc[df['MinorText'].isin(['Possession of Article with Blade or Point',\n",
        "                                    'Possession of Other Weapon'])]\n",
        "total_2 = df_2.sum()\n",
        "total_2.name = 'Blade or other Weapon'\n",
        "\n",
        "df_3 = df.loc[df['MinorText'].isin(['Violence with Injury'])]\n",
        "total_3 = df_3.sum()\n",
        "total_3.name = 'Injury'\n",
        "\n",
        "df_4 = df.loc[df['MinorText'].isin(['Violence without Injury'])]\n",
        "total_4 = df_4.sum()\n",
        "total_4.name = 'No Injury'\n",
        "\n",
        "df = df.append(total_1.transpose())\n",
        "df = df.append(total_2.transpose())\n",
        "df = df.append(total_3.transpose())\n",
        "df = df.append(total_4.transpose())\n",
        "\n",
        "df = df.loc[['No Injury','Injury','Blade or other Weapon','Firearm']]"
      ],
      "execution_count": 11,
      "outputs": []
    },
    {
      "cell_type": "code",
      "metadata": {
        "colab": {
          "base_uri": "https://localhost:8080/"
        },
        "id": "HIGzW8ji3hNp",
        "outputId": "47925a87-77f6-4cdf-e150-e1bbfdac93d1"
      },
      "source": [
        "av_row = df.mean(axis=1)\n",
        "av_row"
      ],
      "execution_count": 9,
      "outputs": [
        {
          "output_type": "execute_result",
          "data": {
            "text/plain": [
              "No Injury                894.458333\n",
              "Injury                   448.791667\n",
              "Blade or other Weapon     40.041667\n",
              "Firearm                    7.708333\n",
              "dtype: float64"
            ]
          },
          "metadata": {
            "tags": []
          },
          "execution_count": 9
        }
      ]
    },
    {
      "cell_type": "code",
      "metadata": {
        "colab": {
          "base_uri": "https://localhost:8080/"
        },
        "id": "8Gqj070V6-qS",
        "outputId": "176d3003-bc2f-49d4-d7bd-aacb32e56341"
      },
      "source": [
        "print('p_blade_or_other_Weapon = ' + str(40.041667/ (40.041667 + 7.708333)))\n",
        "print('p_firearm = ' + str(7.708333/(40.041667 + 7.708333)))\n",
        "print('p_injury = ' + str(448.791667/ (448.791667 + 894.458333)))\n",
        "print('p_no_injury = ' + str(894.458333/ (448.791667 + 894.458333)))"
      ],
      "execution_count": 10,
      "outputs": [
        {
          "output_type": "stream",
          "text": [
            "p_blade_or_other_Weapon = 0.8385689424083769\n",
            "p_firearm = 0.16143105759162302\n",
            "p_injury = 0.33410881593150943\n",
            "p_no_injury = 0.6658911840684907\n"
          ],
          "name": "stdout"
        }
      ]
    }
  ]
}